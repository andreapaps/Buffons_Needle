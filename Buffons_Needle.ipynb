{
 "cells": [
  {
   "cell_type": "code",
   "execution_count": 567,
   "id": "6c6c9624",
   "metadata": {},
   "outputs": [
    {
     "data": {
      "text/plain": [
       "[<matplotlib.lines.Line2D at 0x2173563e490>]"
      ]
     },
     "execution_count": 567,
     "metadata": {},
     "output_type": "execute_result"
    },
    {
     "data": {
      "image/png": "[encoded data removed]",
      "text/plain": [
       "<Figure size 432x288 with 1 Axes>"
      ]
     },
     "metadata": {
      "needs_background": "light"
     },
     "output_type": "display_data"
    }
   ],
   "source": [
    "'''In mathematics, Buffon's needle problem is a question first posed in the 18th century \n",
    "   by Georges-Louis Leclerc, Comte de Buffon:\n",
    "   \n",
    "   Suppose we have a floor made of parallel strips of wood, \n",
    "   each the same width, and we drop a needle onto the floor. \n",
    "   \n",
    "   What is the probability that the needle will lie across a line between two strips?'''\n",
    "\n",
    "#We aim to solve this problem via a simulation\n",
    "\n",
    "import random\n",
    "import numpy as np\n",
    "import matplotlib.pyplot as plt\n",
    "import pandas as pd\n",
    "import math\n",
    "\n",
    "'''We start by creating a plot to show how the experiment would look'''\n",
    "\n",
    "width_floor = 1/random.random() - 1 #width can go from 0 to infinity\n",
    "\n",
    "#For the needle we need 2 co-ordinates x,y can go from 0 to infinity \n",
    "sign_list = [-1,1]\n",
    "x1 = random.random() * width_floor       #Due to symmetry of floor x1 goes from 0 to w      \n",
    "y1 = (1/random.random() -1) * random.choice(sign_list)  # -inf to inf\n",
    "x2 = (1/random.random() -1) * random.choice(sign_list)  # -inf to inf\n",
    "y2 = (1/random.random() -1) * random.choice(sign_list)  # -inf to inf\n",
    "\n",
    "x_values = [x1,x2]\n",
    "y_values = [y1,y2]\n",
    "length_needle = ((x2-x1)**2+(y2-y1)**2)**0.5\n",
    "\n",
    "#We are going to place 10 floorboards now we have a grid lets see where our needle lands\n",
    "#first floorboard is at x = 0 all other ones at ..-2,-w , w , 2w, ... \n",
    "\n",
    "\n",
    "plt.axvline(x = 0)\n",
    "plt.axvline(x = -1 * width_floor)\n",
    "plt.axvline(x =  width_floor)\n",
    "plt.axvline(x = -2 * width_floor)\n",
    "plt.axvline(x = 2 * width_floor)\n",
    "plt.axvline(x = -3 * width_floor)\n",
    "plt.axvline(x = 3 * width_floor)\n",
    "plt.axvline(x = -4  * width_floor)\n",
    "plt.axvline(x = 4  * width_floor)\n",
    "plt.axvline(x = -5  * width_floor)\n",
    "plt.axvline(x = 5 * width_floor)\n",
    "plt.plot(x_values, y_values)\n",
    "\n",
    "#Everytime we run this it simulates a single trial\n",
    "#Our floorboard is infinite so our plot is to give us an idea\n"
   ]
  },
  {
   "cell_type": "code",
   "execution_count": 568,
   "id": "9bd2dfcd",
   "metadata": {},
   "outputs": [],
   "source": [
    "'''Now that we have the visual representation working \n",
    "    we need to check if our needle crosses the floor boards'''\n",
    "\n",
    "#This creates our needle and floor of random length along with necessary properties\n",
    "\n",
    "class Needle_and_floor():\n",
    "    \n",
    "    def __init__ (self):\n",
    "      \n",
    "        sign_list = [-1,1]\n",
    "        self.floor_width = 1/random.random() - 1\n",
    "        self.x1 = random.random() * self.floor_width       #Due to symmetry of floor x1 goes from 0 to w      \n",
    "        self.y1 = (1/random.random() -1) * random.choice(sign_list)  # -inf to inf\n",
    "        self.x2 = (1/random.random() -1) * random.choice(sign_list)  # -inf to inf\n",
    "        self.y2 = (1/random.random() -1) * random.choice(sign_list)  # -inf to inf\n",
    "\n",
    "        self.x_values = [self.x1,self.x2]\n",
    "        self.y_values = [self.y1,self.y2]\n",
    "        self.needle_length = ((x2-x1)**2+(y2-y1)**2)**0.5\n",
    "    \n",
    "    def __str__(self):\n",
    "        return f'{self.x1},{self.x2},{self.y1},{self.y2},{self.x_values},{self.y_values},{self.needle_length},{self.floor_width}' \n",
    "     "
   ]
  },
  {
   "cell_type": "code",
   "execution_count": 577,
   "id": "d11b4e06",
   "metadata": {},
   "outputs": [],
   "source": [
    "#This is the function that checks if we cross a floorboard\n",
    "\n",
    "def crosses_floorboard(trial):\n",
    "    crosses = False\n",
    "    \n",
    "    if trial.x1 < trial.x2:\n",
    "        if trial.x2 > trial.floor_width:\n",
    "            crosses = True\n",
    "    elif trial.x1 > trial.x2:\n",
    "        if trial.x2 < 0:\n",
    "            crosses = True\n",
    "            \n",
    "    return crosses\n"
   ]
  },
  {
   "cell_type": "code",
   "execution_count": 517,
   "id": "c2f89c41",
   "metadata": {},
   "outputs": [
    {
     "name": "stdout",
     "output_type": "stream",
     "text": [
      "0.749644\n"
     ]
    }
   ],
   "source": [
    "#We have our experiment now lets count how many crosses we get in 1 000 000 trials\n",
    "\n",
    "success_count = 0\n",
    "number_of_trials = 1000000\n",
    "\n",
    "for i in range(number_of_trials):\n",
    "    trial_i = Needle_and_floor()\n",
    "    \n",
    "    if crosses_floorboard(trial_i) == True:\n",
    "        success_count += 1\n",
    "        \n",
    "probability = float(success_count)/float(number_of_trials)\n",
    "print(probability)\n",
    "\n",
    "#for 1 000 000 trials we got a probability of 0.74983,0.74984 ,0.750445 , 0.749993"
   ]
  },
  {
   "cell_type": "code",
   "execution_count": 570,
   "id": "19bf0d50",
   "metadata": {},
   "outputs": [
    {
     "data": {
      "text/plain": [
       "<matplotlib.collections.PathCollection at 0x2173541f790>"
      ]
     },
     "execution_count": 570,
     "metadata": {},
     "output_type": "execute_result"
    },
    {
     "data": {
      "image/png": "[encoded data removed]",
      "text/plain": [
       "<Figure size 432x288 with 1 Axes>"
      ]
     },
     "metadata": {
      "needs_background": "light"
     },
     "output_type": "display_data"
    }
   ],
   "source": [
    "'''Now lets fix the lenth of the needle and use our simulation to estimate pi'''\n",
    "\n",
    "'''We need a way to generate random points that lie on a circle so lets check if we can simulate\n",
    "plotting points on a circle, scatter plot will show if we have succeeded'''\n",
    "\n",
    "u = 0                            #circle center x-coordinate\n",
    "v = 0                            #circle center y-coordinate\n",
    "rad = 1                          #circle radius\n",
    "x_list = [u]\n",
    "y_list = [v]\n",
    "\n",
    "for t in range(10000):\n",
    "    angle = 360 * random.random() # 360 * (0 ----> 1) \n",
    "    theta = math.radians(angle)\n",
    "\n",
    "    x_on_circle = rad*math.cos(theta) + u\n",
    "    y_on_circle = rad*math.sin(theta) + v\n",
    "    \n",
    "    x_list.append(x_on_circle)\n",
    "    y_list.append(y_on_circle)\n",
    "\n",
    "\n",
    "plt.scatter(x_list,y_list)\n",
    "\n",
    "\n",
    "#looks like its working"
   ]
  },
  {
   "cell_type": "code",
   "execution_count": 580,
   "id": "5802701c",
   "metadata": {},
   "outputs": [],
   "source": [
    "'''We are going to have floorboards of length 1 and needle length of 5/6\n",
    "   we now create a new needle and floor class with our fixed parameters'''\n",
    "\n",
    "class Fixed_needle_and_floor():\n",
    "    \n",
    "    def __init__ (self):\n",
    "      \n",
    "        sign_list = [-1,1]\n",
    "        self.floor_width = 1\n",
    "        self.x1 = random.random()       #Due to symmetry of floor x1 goes from 0 to 1   \n",
    "        self.y1 = (1/random.random() -1) * random.choice(sign_list)  # -inf to inf\n",
    "        self.theta = math.radians(360 * random.random())\n",
    "        self.x2 =  (5.0/6.0) * (math.cos(self.theta))  + self.x1     # x2 on circle of radius    \n",
    "        self.y2 =  (5.0/6.0) * (math.sin(self.theta))  + self.y1     # y2 on circle of radius \n",
    "\n",
    "        self.x_values = [self.x1,self.x2]\n",
    "        self.y_values = [self.y1,self.y2]\n",
    "        self.needle_length = 5.0/6.0\n",
    "    \n",
    "    def __str__(self):\n",
    "        return f'{self.x1},{self.x2},{self.y1},{self.y2},{self.x_values},{self.y_values},{self.needle_length},{self.floor_width}' \n",
    "     "
   ]
  },
  {
   "cell_type": "code",
   "execution_count": 585,
   "id": "3e60b257",
   "metadata": {},
   "outputs": [
    {
     "name": "stdout",
     "output_type": "stream",
     "text": [
      "0.53048176 \n",
      " Pi_est = 3.1417982527178063 \n",
      " Error = 0.0002055991280132119\n"
     ]
    }
   ],
   "source": [
    "#We have our experiment now lets count how many crosses we get in 1 000 000 trials\n",
    "\n",
    "success_counter = 0\n",
    "no_of_trials = 100000000\n",
    "trial_n = ''\n",
    "\n",
    "for i in range(no_of_trials):\n",
    "    trial_n = Fixed_needle_and_floor()\n",
    "    \n",
    "    if crosses_floorboard(trial_n) == True:\n",
    "        success_counter += 1\n",
    "        \n",
    "probability = float(success_counter)/float(no_of_trials)\n",
    "estimate_of_pi = (5.0/3.0) * (1.0/(float(probability)))\n",
    "print(probability,'\\n','Pi_est =',estimate_of_pi,'\\n','Error =',abs(math.pi - estimate_of_pi))\n",
    "\n",
    "#for 10 000 000 trials we got a probability of 0.5307822,0.5308123\n",
    "#pi_est = 3.140019892654024, 3.139841836119221 \n",
    "#Error = 0.0015727609357689687, 0.0017508174705720414 \n",
    "\n",
    "'''\n",
    "number of trials = 100 000 000 (took long to run so result here)\n",
    "probality = 0.53048176 \n",
    "Pi_est = 3.1417982527178063 \n",
    "Error = 0.0002055991280132119   \n",
    "\n",
    "Conclusion the greater the number of trials the better the estimate\n",
    "in a hundred million trials we estimated pi correctly to 3 decimal places\n",
    "\n",
    "Thus our simulation was successful \n",
    "'''"
   ]
  },
  {
   "cell_type": "code",
   "execution_count": null,
   "id": "4de3c2bb",
   "metadata": {},
   "outputs": [],
   "source": []
  },
  {
   "cell_type": "code",
   "execution_count": null,
   "id": "00a34879",
   "metadata": {},
   "outputs": [],
   "source": []
  }
 ],
 "metadata": {
  "kernelspec": {
   "display_name": "Python 3",
   "language": "python",
   "name": "python3"
  },
  "language_info": {
   "codemirror_mode": {
    "name": "ipython",
    "version": 3
   },
   "file_extension": ".py",
   "mimetype": "text/x-python",
   "name": "python",
   "nbconvert_exporter": "python",
   "pygments_lexer": "ipython3",
   "version": "3.8.8"
  }
 },
 "nbformat": 4,
 "nbformat_minor": 5
}
